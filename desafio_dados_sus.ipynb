{
  "nbformat": 4,
  "nbformat_minor": 0,
  "metadata": {
    "colab": {
      "provenance": [],
      "mount_file_id": "1wmfmsAgOVRurptTp74bV0A2E8DSsv-Ea",
      "authorship_tag": "ABX9TyMorZWOoei+lTRSkrLrMDkm",
      "include_colab_link": true
    },
    "kernelspec": {
      "name": "python3",
      "display_name": "Python 3"
    },
    "language_info": {
      "name": "python"
    }
  },
  "cells": [
    {
      "cell_type": "markdown",
      "metadata": {
        "id": "view-in-github",
        "colab_type": "text"
      },
      "source": [
        "<a href=\"https://colab.research.google.com/github/brodyandre/dados-sus/blob/main/desafio_dados_sus.ipynb\" target=\"_parent\"><img src=\"https://colab.research.google.com/assets/colab-badge.svg\" alt=\"Open In Colab\"/></a>"
      ]
    },
    {
      "cell_type": "markdown",
      "source": [
        "## Esse notebook tem como finalidade, executarmos algumas operações de manipulação dos dados de um arquivo csv do SUS (Sistema único de Saúde). Como por exemplo: import de bibliotecas, montagem do drive para as manipulações, leitura de arquivos csv, tipos de enconoding cabeçalhos e rodapé.\n"
      ],
      "metadata": {
        "id": "lACUSQBtiHN3"
      }
    },
    {
      "cell_type": "markdown",
      "source": [
        "Importando as Bibliotecas necessárias"
      ],
      "metadata": {
        "id": "pz1idvtItIcp"
      }
    },
    {
      "cell_type": "code",
      "source": [
        "from google.colab import drive\n",
        "\n",
        "import pandas as pd"
      ],
      "metadata": {
        "id": "Q-xqw6-4iaoC"
      },
      "execution_count": null,
      "outputs": []
    },
    {
      "cell_type": "markdown",
      "source": [
        "Montando o Google Drive"
      ],
      "metadata": {
        "id": "Sd1MFATqtO2z"
      }
    },
    {
      "cell_type": "code",
      "source": [
        "# Mount Google Drive\n",
        "drive.mount('/content/drive')"
      ],
      "metadata": {
        "colab": {
          "base_uri": "https://localhost:8080/"
        },
        "id": "gF2BrUawiwNz",
        "outputId": "b1d07013-d182-48c0-8af1-d9d335a9cf9b"
      },
      "execution_count": null,
      "outputs": [
        {
          "output_type": "stream",
          "name": "stdout",
          "text": [
            "Mounted at /content/drive\n"
          ]
        }
      ]
    },
    {
      "cell_type": "markdown",
      "source": [
        "Fazendo a leitura do arquivo csv e verificando o tipo de separador: (nesse caso sep = ' ; ')"
      ],
      "metadata": {
        "id": "YQ5jvI3LtZsr"
      }
    },
    {
      "cell_type": "code",
      "source": [
        "# Tentando ler o arquivo CSV com um delimitador diferente e ignorando linhas problemáticas\n",
        "df = pd.read_csv('/dados_sus.csv', encoding='ISO-8859-1', sep=';', on_bad_lines='skip')"
      ],
      "metadata": {
        "id": "93L8kT8pj1TP"
      },
      "execution_count": null,
      "outputs": []
    },
    {
      "cell_type": "code",
      "source": [
        "import csv\n",
        "# Abrindo o arquivo CSV\n",
        "with open('/dados_sus.csv', 'r', encoding='ISO-8859-1') as f:\n",
        "    # Lendo uma amostra do arquivo\n",
        "    sample = f.read(1024)\n",
        "    # Usando o Sniffer para detectar o delimitador\n",
        "    dialect = csv.Sniffer().sniff(sample)\n",
        "    print(f\"O separador detectado é: '{dialect.delimiter}'\")"
      ],
      "metadata": {
        "colab": {
          "base_uri": "https://localhost:8080/"
        },
        "id": "ZWsKF-P8oiCS",
        "outputId": "6b7fe68b-ed04-42a6-dcee-3a99593d5d9f"
      },
      "execution_count": null,
      "outputs": [
        {
          "output_type": "stream",
          "name": "stdout",
          "text": [
            "O separador detectado é: ';'\n"
          ]
        }
      ]
    },
    {
      "cell_type": "markdown",
      "source": [
        "Desconsiderando as 3 primeiras linhas do Dataset"
      ],
      "metadata": {
        "id": "LY0VyUpRt3k7"
      }
    },
    {
      "cell_type": "code",
      "source": [
        "# Lendo o arquivo CSV com o delimitador detectado e ajustando o cabeçalho\n",
        "df = pd.read_csv('/dados_sus.csv', encoding='ISO-8859-1', sep=dialect.delimiter, header=3)\n",
        "\n",
        "# Exibindo as primeiras linhas do DataFrame\n",
        "print(df.head())\n"
      ],
      "metadata": {
        "colab": {
          "base_uri": "https://localhost:8080/"
        },
        "id": "_FmrRpV5pshP",
        "outputId": "b74f41a6-6054-450a-937e-d3b9afd5a667"
      },
      "execution_count": null,
      "outputs": [
        {
          "output_type": "stream",
          "name": "stdout",
          "text": [
            "  Unidade da Federação     2008/Jan     2008/Fev     2008/Mar     2008/Abr  \\\n",
            "0             Rondônia   1388528,39   2931283,42   1541682,52   1525314,96   \n",
            "1                 Acre    902416,00   1497206,26   1794028,48   1730469,42   \n",
            "2             Amazonas   4735529,42   7118990,57   8196635,49   8259378,42   \n",
            "3              Roraima    657889,53    777939,31    718688,03    839994,39   \n",
            "4                 Pará  18864744,11  19553758,20  21937342,70  20842829,69   \n",
            "\n",
            "      2008/Mai     2008/Jun     2008/Jul     2008/Ago     2008/Set  ...  \\\n",
            "0   1645953,84   1406150,68   3065279,01   3231494,61   3117178,63  ...   \n",
            "1   1819443,92   1828496,00   2511754,59   2089107,14   2275708,53  ...   \n",
            "2   7831399,90   8477273,62   9368858,72   9352532,70   9363099,35  ...   \n",
            "3    862347,96    832440,66    996693,09    894271,18    910424,17  ...   \n",
            "4  23249952,88  23240687,56  24002223,56  23341218,03  25172261,32  ...   \n",
            "\n",
            "      2020/Jul     2020/Ago     2020/Set     2020/Out     2020/Nov  \\\n",
            "0  11824687,13  11733307,76  10201985,14   7955139,45   9357946,29   \n",
            "1   3915193,20   3640142,82   3391242,21   4044321,44   3276590,10   \n",
            "2  19769460,14  18059931,43  17841015,63  16408315,10  19895617,91   \n",
            "3   3015488,30   2826486,18   2928043,91   3090313,73   3621031,05   \n",
            "4  40804126,43  44385715,88  36820249,47  36965931,34  39004315,80   \n",
            "\n",
            "      2020/Dez     2021/Jan     2021/Fev     2021/Mar          Total  \n",
            "0   8880836,55   9266014,59   7730597,04  11023309,47   996411254,68  \n",
            "1   3696997,31   3715723,12   3538427,92   4077045,92   450048530,47  \n",
            "2  17765167,69  21430289,17  25917134,55  22032176,22  1917247936,05  \n",
            "3   3454460,94   3266928,47   3519773,73   3985530,08   328876965,09  \n",
            "4  38015145,79  38354682,46  37688314,23  33276392,89  4705309002,29  \n",
            "\n",
            "[5 rows x 161 columns]\n"
          ]
        }
      ]
    },
    {
      "cell_type": "markdown",
      "source": [
        "Desconsiderando as 9 últimas linhas do dataset"
      ],
      "metadata": {
        "id": "A2jQHDJYuCG8"
      }
    },
    {
      "cell_type": "code",
      "source": [
        "df = pd.read_csv('/dados_sus.csv',\n",
        "                 encoding='ISO-8859-1',\n",
        "                 sep=';',                    # use o separador detectado ou correto\n",
        "                 header=3,                   # ajuste conforme o seu caso\n",
        "                 skipfooter=9,               # ignora as 9 últimas linhas\n",
        "                 engine='python')            # necessário para usar skipfooter\n",
        "print(df.tail())  # verificar as últimas linhas para confirmar que as 9 últimas foram excluídas"
      ],
      "metadata": {
        "colab": {
          "base_uri": "https://localhost:8080/"
        },
        "id": "yWMipFj0qQBT",
        "outputId": "b6d786f0-b777-410b-ace3-156ae1d77bcf"
      },
      "execution_count": null,
      "outputs": [
        {
          "output_type": "stream",
          "name": "stdout",
          "text": [
            "   Unidade da Federação      2008/Jan      2008/Fev      2008/Mar  \\\n",
            "23   Mato Grosso do Sul    5377392,11    7002472,61    8423933,19   \n",
            "24          Mato Grosso    4795299,01    8684882,23    7886243,14   \n",
            "25                Goiás   15310637,29   22258668,68   21442515,75   \n",
            "26     Distrito Federal    4745919,19    7632480,67    9647203,26   \n",
            "27                Total  408424859,23  613174269,21  664043058,38   \n",
            "\n",
            "        2008/Abr      2008/Mai      2008/Jun      2008/Jul      2008/Ago  \\\n",
            "23    8797487,68    9770421,80   10905392,18   10249299,82    9671553,45   \n",
            "24    8794109,79    9231645,40   10221763,77    9163314,28    9243148,81   \n",
            "25   20921212,45   21615970,67   18270043,87   20540517,13   20650730,67   \n",
            "26   11098732,99   12891719,72   12850125,67   12565646,74   13710857,89   \n",
            "27  686662861,42  715803639,49  752181563,64  764990284,76  750608648,28   \n",
            "\n",
            "        2008/Set  ...       2020/Jul       2020/Ago       2020/Set  \\\n",
            "23   10218511,05  ...    18858844,44    19877080,68    19247894,51   \n",
            "24    9052354,89  ...    16834650,98    19704915,36    20746227,60   \n",
            "25   20868443,56  ...    40606222,82    46229357,10    44889588,33   \n",
            "26   13165106,20  ...    25269773,34    26526196,39    20056592,11   \n",
            "27  752962642,15  ...  1484010417,62  1514160823,72  1477904466,14   \n",
            "\n",
            "         2020/Out       2020/Nov       2020/Dez       2021/Jan       2021/Fev  \\\n",
            "23    19497210,85    22023126,25    19629591,55    21693311,15    24337295,63   \n",
            "24    22727405,20    20506039,58    19583803,46    19120141,68    18349376,92   \n",
            "25    45529496,23    43037600,45    44147353,21    46127763,88    42742773,93   \n",
            "26    20856249,30    20459325,27    22991567,76    23527050,29    22766952,62   \n",
            "27  1489983146,21  1464196395,75  1441199605,05  1513991196,49  1500612299,36   \n",
            "\n",
            "         2021/Mar            Total  \n",
            "23    25168195,34    2324525096,33  \n",
            "24    19611032,61    2180119781,15  \n",
            "25    45592686,49    4973573613,47  \n",
            "26    31831917,45    2592422853,56  \n",
            "27  1687562138,38  172481760138,88  \n",
            "\n",
            "[5 rows x 161 columns]\n"
          ]
        }
      ]
    },
    {
      "cell_type": "markdown",
      "source": [
        "Salvando arquivo como um DataFrame"
      ],
      "metadata": {
        "id": "S_QC8AUauNv_"
      }
    },
    {
      "cell_type": "code",
      "source": [
        " #Salvando o DataFrame como um novo arquivo CSV\n",
        "df.to_csv('/content/drive/My Drive/dataframe_dados_sus.csv', index=False)  # Ajuste o caminho conforme necessário\n",
        "print(df.head())"
      ],
      "metadata": {
        "colab": {
          "base_uri": "https://localhost:8080/"
        },
        "id": "APvtFZBWqkHF",
        "outputId": "722721a2-272f-48f6-c868-6b5536616235"
      },
      "execution_count": null,
      "outputs": [
        {
          "output_type": "stream",
          "name": "stdout",
          "text": [
            "  Unidade da Federação     2008/Jan     2008/Fev     2008/Mar     2008/Abr  \\\n",
            "0             Rondônia   1388528,39   2931283,42   1541682,52   1525314,96   \n",
            "1                 Acre    902416,00   1497206,26   1794028,48   1730469,42   \n",
            "2             Amazonas   4735529,42   7118990,57   8196635,49   8259378,42   \n",
            "3              Roraima    657889,53    777939,31    718688,03    839994,39   \n",
            "4                 Pará  18864744,11  19553758,20  21937342,70  20842829,69   \n",
            "\n",
            "      2008/Mai     2008/Jun     2008/Jul     2008/Ago     2008/Set  ...  \\\n",
            "0   1645953,84   1406150,68   3065279,01   3231494,61   3117178,63  ...   \n",
            "1   1819443,92   1828496,00   2511754,59   2089107,14   2275708,53  ...   \n",
            "2   7831399,90   8477273,62   9368858,72   9352532,70   9363099,35  ...   \n",
            "3    862347,96    832440,66    996693,09    894271,18    910424,17  ...   \n",
            "4  23249952,88  23240687,56  24002223,56  23341218,03  25172261,32  ...   \n",
            "\n",
            "      2020/Jul     2020/Ago     2020/Set     2020/Out     2020/Nov  \\\n",
            "0  11824687,13  11733307,76  10201985,14   7955139,45   9357946,29   \n",
            "1   3915193,20   3640142,82   3391242,21   4044321,44   3276590,10   \n",
            "2  19769460,14  18059931,43  17841015,63  16408315,10  19895617,91   \n",
            "3   3015488,30   2826486,18   2928043,91   3090313,73   3621031,05   \n",
            "4  40804126,43  44385715,88  36820249,47  36965931,34  39004315,80   \n",
            "\n",
            "      2020/Dez     2021/Jan     2021/Fev     2021/Mar          Total  \n",
            "0   8880836,55   9266014,59   7730597,04  11023309,47   996411254,68  \n",
            "1   3696997,31   3715723,12   3538427,92   4077045,92   450048530,47  \n",
            "2  17765167,69  21430289,17  25917134,55  22032176,22  1917247936,05  \n",
            "3   3454460,94   3266928,47   3519773,73   3985530,08   328876965,09  \n",
            "4  38015145,79  38354682,46  37688314,23  33276392,89  4705309002,29  \n",
            "\n",
            "[5 rows x 161 columns]\n"
          ]
        }
      ]
    },
    {
      "cell_type": "markdown",
      "source": [
        "Exibindo as 5 primeiras linhas do arquivo ja convertido em dataframe"
      ],
      "metadata": {
        "id": "uBbIsb_2uU3O"
      }
    },
    {
      "cell_type": "code",
      "source": [
        "display(df.head())"
      ],
      "metadata": {
        "colab": {
          "base_uri": "https://localhost:8080/",
          "height": 290
        },
        "id": "DLARkffAsp-y",
        "outputId": "61f917c1-27af-44d9-eb15-fa32ff6412dc"
      },
      "execution_count": null,
      "outputs": [
        {
          "output_type": "display_data",
          "data": {
            "text/plain": [
              "  Unidade da Federação     2008/Jan     2008/Fev     2008/Mar     2008/Abr  \\\n",
              "0             Rondônia   1388528,39   2931283,42   1541682,52   1525314,96   \n",
              "1                 Acre    902416,00   1497206,26   1794028,48   1730469,42   \n",
              "2             Amazonas   4735529,42   7118990,57   8196635,49   8259378,42   \n",
              "3              Roraima    657889,53    777939,31    718688,03    839994,39   \n",
              "4                 Pará  18864744,11  19553758,20  21937342,70  20842829,69   \n",
              "\n",
              "      2008/Mai     2008/Jun     2008/Jul     2008/Ago     2008/Set  ...  \\\n",
              "0   1645953,84   1406150,68   3065279,01   3231494,61   3117178,63  ...   \n",
              "1   1819443,92   1828496,00   2511754,59   2089107,14   2275708,53  ...   \n",
              "2   7831399,90   8477273,62   9368858,72   9352532,70   9363099,35  ...   \n",
              "3    862347,96    832440,66    996693,09    894271,18    910424,17  ...   \n",
              "4  23249952,88  23240687,56  24002223,56  23341218,03  25172261,32  ...   \n",
              "\n",
              "      2020/Jul     2020/Ago     2020/Set     2020/Out     2020/Nov  \\\n",
              "0  11824687,13  11733307,76  10201985,14   7955139,45   9357946,29   \n",
              "1   3915193,20   3640142,82   3391242,21   4044321,44   3276590,10   \n",
              "2  19769460,14  18059931,43  17841015,63  16408315,10  19895617,91   \n",
              "3   3015488,30   2826486,18   2928043,91   3090313,73   3621031,05   \n",
              "4  40804126,43  44385715,88  36820249,47  36965931,34  39004315,80   \n",
              "\n",
              "      2020/Dez     2021/Jan     2021/Fev     2021/Mar          Total  \n",
              "0   8880836,55   9266014,59   7730597,04  11023309,47   996411254,68  \n",
              "1   3696997,31   3715723,12   3538427,92   4077045,92   450048530,47  \n",
              "2  17765167,69  21430289,17  25917134,55  22032176,22  1917247936,05  \n",
              "3   3454460,94   3266928,47   3519773,73   3985530,08   328876965,09  \n",
              "4  38015145,79  38354682,46  37688314,23  33276392,89  4705309002,29  \n",
              "\n",
              "[5 rows x 161 columns]"
            ],
            "text/html": [
              "\n",
              "  <div id=\"df-032f3cb2-0239-4011-aed1-015125771705\" class=\"colab-df-container\">\n",
              "    <div>\n",
              "<style scoped>\n",
              "    .dataframe tbody tr th:only-of-type {\n",
              "        vertical-align: middle;\n",
              "    }\n",
              "\n",
              "    .dataframe tbody tr th {\n",
              "        vertical-align: top;\n",
              "    }\n",
              "\n",
              "    .dataframe thead th {\n",
              "        text-align: right;\n",
              "    }\n",
              "</style>\n",
              "<table border=\"1\" class=\"dataframe\">\n",
              "  <thead>\n",
              "    <tr style=\"text-align: right;\">\n",
              "      <th></th>\n",
              "      <th>Unidade da Federação</th>\n",
              "      <th>2008/Jan</th>\n",
              "      <th>2008/Fev</th>\n",
              "      <th>2008/Mar</th>\n",
              "      <th>2008/Abr</th>\n",
              "      <th>2008/Mai</th>\n",
              "      <th>2008/Jun</th>\n",
              "      <th>2008/Jul</th>\n",
              "      <th>2008/Ago</th>\n",
              "      <th>2008/Set</th>\n",
              "      <th>...</th>\n",
              "      <th>2020/Jul</th>\n",
              "      <th>2020/Ago</th>\n",
              "      <th>2020/Set</th>\n",
              "      <th>2020/Out</th>\n",
              "      <th>2020/Nov</th>\n",
              "      <th>2020/Dez</th>\n",
              "      <th>2021/Jan</th>\n",
              "      <th>2021/Fev</th>\n",
              "      <th>2021/Mar</th>\n",
              "      <th>Total</th>\n",
              "    </tr>\n",
              "  </thead>\n",
              "  <tbody>\n",
              "    <tr>\n",
              "      <th>0</th>\n",
              "      <td>Rondônia</td>\n",
              "      <td>1388528,39</td>\n",
              "      <td>2931283,42</td>\n",
              "      <td>1541682,52</td>\n",
              "      <td>1525314,96</td>\n",
              "      <td>1645953,84</td>\n",
              "      <td>1406150,68</td>\n",
              "      <td>3065279,01</td>\n",
              "      <td>3231494,61</td>\n",
              "      <td>3117178,63</td>\n",
              "      <td>...</td>\n",
              "      <td>11824687,13</td>\n",
              "      <td>11733307,76</td>\n",
              "      <td>10201985,14</td>\n",
              "      <td>7955139,45</td>\n",
              "      <td>9357946,29</td>\n",
              "      <td>8880836,55</td>\n",
              "      <td>9266014,59</td>\n",
              "      <td>7730597,04</td>\n",
              "      <td>11023309,47</td>\n",
              "      <td>996411254,68</td>\n",
              "    </tr>\n",
              "    <tr>\n",
              "      <th>1</th>\n",
              "      <td>Acre</td>\n",
              "      <td>902416,00</td>\n",
              "      <td>1497206,26</td>\n",
              "      <td>1794028,48</td>\n",
              "      <td>1730469,42</td>\n",
              "      <td>1819443,92</td>\n",
              "      <td>1828496,00</td>\n",
              "      <td>2511754,59</td>\n",
              "      <td>2089107,14</td>\n",
              "      <td>2275708,53</td>\n",
              "      <td>...</td>\n",
              "      <td>3915193,20</td>\n",
              "      <td>3640142,82</td>\n",
              "      <td>3391242,21</td>\n",
              "      <td>4044321,44</td>\n",
              "      <td>3276590,10</td>\n",
              "      <td>3696997,31</td>\n",
              "      <td>3715723,12</td>\n",
              "      <td>3538427,92</td>\n",
              "      <td>4077045,92</td>\n",
              "      <td>450048530,47</td>\n",
              "    </tr>\n",
              "    <tr>\n",
              "      <th>2</th>\n",
              "      <td>Amazonas</td>\n",
              "      <td>4735529,42</td>\n",
              "      <td>7118990,57</td>\n",
              "      <td>8196635,49</td>\n",
              "      <td>8259378,42</td>\n",
              "      <td>7831399,90</td>\n",
              "      <td>8477273,62</td>\n",
              "      <td>9368858,72</td>\n",
              "      <td>9352532,70</td>\n",
              "      <td>9363099,35</td>\n",
              "      <td>...</td>\n",
              "      <td>19769460,14</td>\n",
              "      <td>18059931,43</td>\n",
              "      <td>17841015,63</td>\n",
              "      <td>16408315,10</td>\n",
              "      <td>19895617,91</td>\n",
              "      <td>17765167,69</td>\n",
              "      <td>21430289,17</td>\n",
              "      <td>25917134,55</td>\n",
              "      <td>22032176,22</td>\n",
              "      <td>1917247936,05</td>\n",
              "    </tr>\n",
              "    <tr>\n",
              "      <th>3</th>\n",
              "      <td>Roraima</td>\n",
              "      <td>657889,53</td>\n",
              "      <td>777939,31</td>\n",
              "      <td>718688,03</td>\n",
              "      <td>839994,39</td>\n",
              "      <td>862347,96</td>\n",
              "      <td>832440,66</td>\n",
              "      <td>996693,09</td>\n",
              "      <td>894271,18</td>\n",
              "      <td>910424,17</td>\n",
              "      <td>...</td>\n",
              "      <td>3015488,30</td>\n",
              "      <td>2826486,18</td>\n",
              "      <td>2928043,91</td>\n",
              "      <td>3090313,73</td>\n",
              "      <td>3621031,05</td>\n",
              "      <td>3454460,94</td>\n",
              "      <td>3266928,47</td>\n",
              "      <td>3519773,73</td>\n",
              "      <td>3985530,08</td>\n",
              "      <td>328876965,09</td>\n",
              "    </tr>\n",
              "    <tr>\n",
              "      <th>4</th>\n",
              "      <td>Pará</td>\n",
              "      <td>18864744,11</td>\n",
              "      <td>19553758,20</td>\n",
              "      <td>21937342,70</td>\n",
              "      <td>20842829,69</td>\n",
              "      <td>23249952,88</td>\n",
              "      <td>23240687,56</td>\n",
              "      <td>24002223,56</td>\n",
              "      <td>23341218,03</td>\n",
              "      <td>25172261,32</td>\n",
              "      <td>...</td>\n",
              "      <td>40804126,43</td>\n",
              "      <td>44385715,88</td>\n",
              "      <td>36820249,47</td>\n",
              "      <td>36965931,34</td>\n",
              "      <td>39004315,80</td>\n",
              "      <td>38015145,79</td>\n",
              "      <td>38354682,46</td>\n",
              "      <td>37688314,23</td>\n",
              "      <td>33276392,89</td>\n",
              "      <td>4705309002,29</td>\n",
              "    </tr>\n",
              "  </tbody>\n",
              "</table>\n",
              "<p>5 rows × 161 columns</p>\n",
              "</div>\n",
              "    <div class=\"colab-df-buttons\">\n",
              "\n",
              "  <div class=\"colab-df-container\">\n",
              "    <button class=\"colab-df-convert\" onclick=\"convertToInteractive('df-032f3cb2-0239-4011-aed1-015125771705')\"\n",
              "            title=\"Convert this dataframe to an interactive table.\"\n",
              "            style=\"display:none;\">\n",
              "\n",
              "  <svg xmlns=\"http://www.w3.org/2000/svg\" height=\"24px\" viewBox=\"0 -960 960 960\">\n",
              "    <path d=\"M120-120v-720h720v720H120Zm60-500h600v-160H180v160Zm220 220h160v-160H400v160Zm0 220h160v-160H400v160ZM180-400h160v-160H180v160Zm440 0h160v-160H620v160ZM180-180h160v-160H180v160Zm440 0h160v-160H620v160Z\"/>\n",
              "  </svg>\n",
              "    </button>\n",
              "\n",
              "  <style>\n",
              "    .colab-df-container {\n",
              "      display:flex;\n",
              "      gap: 12px;\n",
              "    }\n",
              "\n",
              "    .colab-df-convert {\n",
              "      background-color: #E8F0FE;\n",
              "      border: none;\n",
              "      border-radius: 50%;\n",
              "      cursor: pointer;\n",
              "      display: none;\n",
              "      fill: #1967D2;\n",
              "      height: 32px;\n",
              "      padding: 0 0 0 0;\n",
              "      width: 32px;\n",
              "    }\n",
              "\n",
              "    .colab-df-convert:hover {\n",
              "      background-color: #E2EBFA;\n",
              "      box-shadow: 0px 1px 2px rgba(60, 64, 67, 0.3), 0px 1px 3px 1px rgba(60, 64, 67, 0.15);\n",
              "      fill: #174EA6;\n",
              "    }\n",
              "\n",
              "    .colab-df-buttons div {\n",
              "      margin-bottom: 4px;\n",
              "    }\n",
              "\n",
              "    [theme=dark] .colab-df-convert {\n",
              "      background-color: #3B4455;\n",
              "      fill: #D2E3FC;\n",
              "    }\n",
              "\n",
              "    [theme=dark] .colab-df-convert:hover {\n",
              "      background-color: #434B5C;\n",
              "      box-shadow: 0px 1px 3px 1px rgba(0, 0, 0, 0.15);\n",
              "      filter: drop-shadow(0px 1px 2px rgba(0, 0, 0, 0.3));\n",
              "      fill: #FFFFFF;\n",
              "    }\n",
              "  </style>\n",
              "\n",
              "    <script>\n",
              "      const buttonEl =\n",
              "        document.querySelector('#df-032f3cb2-0239-4011-aed1-015125771705 button.colab-df-convert');\n",
              "      buttonEl.style.display =\n",
              "        google.colab.kernel.accessAllowed ? 'block' : 'none';\n",
              "\n",
              "      async function convertToInteractive(key) {\n",
              "        const element = document.querySelector('#df-032f3cb2-0239-4011-aed1-015125771705');\n",
              "        const dataTable =\n",
              "          await google.colab.kernel.invokeFunction('convertToInteractive',\n",
              "                                                    [key], {});\n",
              "        if (!dataTable) return;\n",
              "\n",
              "        const docLinkHtml = 'Like what you see? Visit the ' +\n",
              "          '<a target=\"_blank\" href=https://colab.research.google.com/notebooks/data_table.ipynb>data table notebook</a>'\n",
              "          + ' to learn more about interactive tables.';\n",
              "        element.innerHTML = '';\n",
              "        dataTable['output_type'] = 'display_data';\n",
              "        await google.colab.output.renderOutput(dataTable, element);\n",
              "        const docLink = document.createElement('div');\n",
              "        docLink.innerHTML = docLinkHtml;\n",
              "        element.appendChild(docLink);\n",
              "      }\n",
              "    </script>\n",
              "  </div>\n",
              "\n",
              "\n",
              "    <div id=\"df-24ee57ba-857e-4d09-bc5c-5123818e17a6\">\n",
              "      <button class=\"colab-df-quickchart\" onclick=\"quickchart('df-24ee57ba-857e-4d09-bc5c-5123818e17a6')\"\n",
              "                title=\"Suggest charts\"\n",
              "                style=\"display:none;\">\n",
              "\n",
              "<svg xmlns=\"http://www.w3.org/2000/svg\" height=\"24px\"viewBox=\"0 0 24 24\"\n",
              "     width=\"24px\">\n",
              "    <g>\n",
              "        <path d=\"M19 3H5c-1.1 0-2 .9-2 2v14c0 1.1.9 2 2 2h14c1.1 0 2-.9 2-2V5c0-1.1-.9-2-2-2zM9 17H7v-7h2v7zm4 0h-2V7h2v10zm4 0h-2v-4h2v4z\"/>\n",
              "    </g>\n",
              "</svg>\n",
              "      </button>\n",
              "\n",
              "<style>\n",
              "  .colab-df-quickchart {\n",
              "      --bg-color: #E8F0FE;\n",
              "      --fill-color: #1967D2;\n",
              "      --hover-bg-color: #E2EBFA;\n",
              "      --hover-fill-color: #174EA6;\n",
              "      --disabled-fill-color: #AAA;\n",
              "      --disabled-bg-color: #DDD;\n",
              "  }\n",
              "\n",
              "  [theme=dark] .colab-df-quickchart {\n",
              "      --bg-color: #3B4455;\n",
              "      --fill-color: #D2E3FC;\n",
              "      --hover-bg-color: #434B5C;\n",
              "      --hover-fill-color: #FFFFFF;\n",
              "      --disabled-bg-color: #3B4455;\n",
              "      --disabled-fill-color: #666;\n",
              "  }\n",
              "\n",
              "  .colab-df-quickchart {\n",
              "    background-color: var(--bg-color);\n",
              "    border: none;\n",
              "    border-radius: 50%;\n",
              "    cursor: pointer;\n",
              "    display: none;\n",
              "    fill: var(--fill-color);\n",
              "    height: 32px;\n",
              "    padding: 0;\n",
              "    width: 32px;\n",
              "  }\n",
              "\n",
              "  .colab-df-quickchart:hover {\n",
              "    background-color: var(--hover-bg-color);\n",
              "    box-shadow: 0 1px 2px rgba(60, 64, 67, 0.3), 0 1px 3px 1px rgba(60, 64, 67, 0.15);\n",
              "    fill: var(--button-hover-fill-color);\n",
              "  }\n",
              "\n",
              "  .colab-df-quickchart-complete:disabled,\n",
              "  .colab-df-quickchart-complete:disabled:hover {\n",
              "    background-color: var(--disabled-bg-color);\n",
              "    fill: var(--disabled-fill-color);\n",
              "    box-shadow: none;\n",
              "  }\n",
              "\n",
              "  .colab-df-spinner {\n",
              "    border: 2px solid var(--fill-color);\n",
              "    border-color: transparent;\n",
              "    border-bottom-color: var(--fill-color);\n",
              "    animation:\n",
              "      spin 1s steps(1) infinite;\n",
              "  }\n",
              "\n",
              "  @keyframes spin {\n",
              "    0% {\n",
              "      border-color: transparent;\n",
              "      border-bottom-color: var(--fill-color);\n",
              "      border-left-color: var(--fill-color);\n",
              "    }\n",
              "    20% {\n",
              "      border-color: transparent;\n",
              "      border-left-color: var(--fill-color);\n",
              "      border-top-color: var(--fill-color);\n",
              "    }\n",
              "    30% {\n",
              "      border-color: transparent;\n",
              "      border-left-color: var(--fill-color);\n",
              "      border-top-color: var(--fill-color);\n",
              "      border-right-color: var(--fill-color);\n",
              "    }\n",
              "    40% {\n",
              "      border-color: transparent;\n",
              "      border-right-color: var(--fill-color);\n",
              "      border-top-color: var(--fill-color);\n",
              "    }\n",
              "    60% {\n",
              "      border-color: transparent;\n",
              "      border-right-color: var(--fill-color);\n",
              "    }\n",
              "    80% {\n",
              "      border-color: transparent;\n",
              "      border-right-color: var(--fill-color);\n",
              "      border-bottom-color: var(--fill-color);\n",
              "    }\n",
              "    90% {\n",
              "      border-color: transparent;\n",
              "      border-bottom-color: var(--fill-color);\n",
              "    }\n",
              "  }\n",
              "</style>\n",
              "\n",
              "      <script>\n",
              "        async function quickchart(key) {\n",
              "          const quickchartButtonEl =\n",
              "            document.querySelector('#' + key + ' button');\n",
              "          quickchartButtonEl.disabled = true;  // To prevent multiple clicks.\n",
              "          quickchartButtonEl.classList.add('colab-df-spinner');\n",
              "          try {\n",
              "            const charts = await google.colab.kernel.invokeFunction(\n",
              "                'suggestCharts', [key], {});\n",
              "          } catch (error) {\n",
              "            console.error('Error during call to suggestCharts:', error);\n",
              "          }\n",
              "          quickchartButtonEl.classList.remove('colab-df-spinner');\n",
              "          quickchartButtonEl.classList.add('colab-df-quickchart-complete');\n",
              "        }\n",
              "        (() => {\n",
              "          let quickchartButtonEl =\n",
              "            document.querySelector('#df-24ee57ba-857e-4d09-bc5c-5123818e17a6 button');\n",
              "          quickchartButtonEl.style.display =\n",
              "            google.colab.kernel.accessAllowed ? 'block' : 'none';\n",
              "        })();\n",
              "      </script>\n",
              "    </div>\n",
              "\n",
              "    </div>\n",
              "  </div>\n"
            ],
            "application/vnd.google.colaboratory.intrinsic+json": {
              "type": "dataframe"
            }
          },
          "metadata": {}
        }
      ]
    }
  ]
}